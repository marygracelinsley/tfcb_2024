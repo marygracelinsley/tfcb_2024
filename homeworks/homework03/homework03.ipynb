{
 "cells": [
  {
   "cell_type": "markdown",
   "metadata": {},
   "source": [
    "# Homework03 (10 points): The genetic code as a python `dict`\n",
    "\n",
    "Any code that's already here in the notebook or in the lectures is fair game. I've provided outline code for some of the problems; you are welcome to use that but you don't have to. There are also some hints/examples at the very end of this notebook.\n",
    "\n",
    "Please post questions to the tfcb_2022 slack channel. Phil is also available via email (pbradley@fredhutch.org), and he loves answering Python questions.\n",
    "Seriously. Don't hesitate to reach out if you are feeling stuck. Direct messaging\n",
    "him in slack also works great."
   ]
  },
  {
   "cell_type": "markdown",
   "metadata": {},
   "source": [
    "Here's a python dictionary that stores the genetic code mapping. The keys are codons and the values are the amino acids that those codons code for. '*' represents STOP."
   ]
  },
  {
   "cell_type": "code",
   "execution_count": 30,
   "metadata": {},
   "outputs": [],
   "source": [
    "genetic_code = {\n",
    "    'AAA': 'K', 'AAC': 'N', 'AAG': 'K', 'AAT': 'N', \n",
    "    'ACA': 'T', 'ACC': 'T', 'ACG': 'T', 'ACT': 'T', \n",
    "    'AGA': 'R', 'AGC': 'S', 'AGG': 'R', 'AGT': 'S', \n",
    "    'ATA': 'I', 'ATC': 'I', 'ATG': 'M', 'ATT': 'I', \n",
    "    'CAA': 'Q', 'CAC': 'H', 'CAG': 'Q', 'CAT': 'H', \n",
    "    'CCA': 'P', 'CCC': 'P', 'CCG': 'P', 'CCT': 'P', \n",
    "    'CGA': 'R', 'CGC': 'R', 'CGG': 'R', 'CGT': 'R', \n",
    "    'CTA': 'L', 'CTC': 'L', 'CTG': 'L', 'CTT': 'L', \n",
    "    'GAA': 'E', 'GAC': 'D', 'GAG': 'E', 'GAT': 'D', \n",
    "    'GCA': 'A', 'GCC': 'A', 'GCG': 'A', 'GCT': 'A', \n",
    "    'GGA': 'G', 'GGC': 'G', 'GGG': 'G', 'GGT': 'G', \n",
    "    'GTA': 'V', 'GTC': 'V', 'GTG': 'V', 'GTT': 'V', \n",
    "    'TAA': '*', 'TAC': 'Y', 'TAG': '*', 'TAT': 'Y', \n",
    "    'TCA': 'S', 'TCC': 'S', 'TCG': 'S', 'TCT': 'S', \n",
    "    'TGA': '*', 'TGC': 'C', 'TGG': 'W', 'TGT': 'C', \n",
    "    'TTA': 'L', 'TTC': 'F', 'TTG': 'L', 'TTT': 'F'\n",
    "}\n"
   ]
  },
  {
   "cell_type": "markdown",
   "metadata": {},
   "source": [
    "# Q1 (1 point). What does `TGC` code for?\n",
    "\n",
    "Create a string called codon that is equal to `'TGC'` and use the genetic_code dictionary to look up its translation.\n",
    "\n",
    "Recall that you look up a value in a dictionary using the syntax\n",
    "`dictionary[key]`, where `dictionary` is the name of the dictionary and `key` is the name of the key."
   ]
  },
  {
   "cell_type": "code",
   "execution_count": 7,
   "metadata": {},
   "outputs": [
    {
     "data": {
      "text/plain": [
       "'C'"
      ]
     },
     "execution_count": 7,
     "metadata": {},
     "output_type": "execute_result"
    }
   ],
   "source": [
    "# what does TGC code for?\n",
    "codon = 'TGC'\n",
    "genetic_code[codon]"
   ]
  },
  {
   "cell_type": "markdown",
   "metadata": {},
   "source": [
    "# Q2 (1 point). How many codons code for leucine ('L')?\n",
    "Do this by looping through the keys (ie, codons) in the `genetic_code` dictionary and counting how many code for leucine."
   ]
  },
  {
   "cell_type": "code",
   "execution_count": 8,
   "metadata": {},
   "outputs": [
    {
     "name": "stdout",
     "output_type": "stream",
     "text": [
      "6\n"
     ]
    }
   ],
   "source": [
    "# initialize the count to 0\n",
    "num_leucine_codons = 0\n",
    "\n",
    "# for-loops over dictionaries give us the keys (ie, codons)\n",
    "for codon in genetic_code:\n",
    "    if genetic_code[codon] == 'L':\n",
    "        # add 1 to the num_leucine_codons variable\n",
    "        num_leucine_codons= num_leucine_codons +1\n",
    "\n",
    "print(num_leucine_codons)"
   ]
  },
  {
   "cell_type": "markdown",
   "metadata": {},
   "source": [
    "# Q3 (2 points). How many codons code for each amino acid?\n",
    "\n",
    "Do this with a `for` loop over the amino acids (plus stop aka `'*'`), inside of which you figure out how many codons code for that amino acid and print out the amino acid and the number of codons. You should get an output like this:\n",
    "\n",
    "```\n",
    "* 3\n",
    "A 4\n",
    "C 2\n",
    "D 2\n",
    "```\n",
    "etc."
   ]
  },
  {
   "cell_type": "markdown",
   "metadata": {},
   "source": [
    "We need a list of all the amino acids (plus the stop codon). You could hard code those, with something like:\n",
    "```python\n",
    "amino_acids_plus_stop = ['*','A','C','D'] # etc\n",
    "```\n",
    "But it's easier to build the list directly from the dictionary. For starters, here's how you get all the values in a dictionary:"
   ]
  },
  {
   "cell_type": "code",
   "execution_count": 50,
   "metadata": {},
   "outputs": [
    {
     "data": {
      "text/plain": [
       "['K',\n",
       " 'N',\n",
       " 'K',\n",
       " 'N',\n",
       " 'T',\n",
       " 'T',\n",
       " 'T',\n",
       " 'T',\n",
       " 'R',\n",
       " 'S',\n",
       " 'R',\n",
       " 'S',\n",
       " 'I',\n",
       " 'I',\n",
       " 'M',\n",
       " 'I',\n",
       " 'Q',\n",
       " 'H',\n",
       " 'Q',\n",
       " 'H',\n",
       " 'P',\n",
       " 'P',\n",
       " 'P',\n",
       " 'P',\n",
       " 'R',\n",
       " 'R',\n",
       " 'R',\n",
       " 'R',\n",
       " 'L',\n",
       " 'L',\n",
       " 'L',\n",
       " 'L',\n",
       " 'E',\n",
       " 'D',\n",
       " 'E',\n",
       " 'D',\n",
       " 'A',\n",
       " 'A',\n",
       " 'A',\n",
       " 'A',\n",
       " 'G',\n",
       " 'G',\n",
       " 'G',\n",
       " 'G',\n",
       " 'V',\n",
       " 'V',\n",
       " 'V',\n",
       " 'V',\n",
       " '*',\n",
       " 'Y',\n",
       " '*',\n",
       " 'Y',\n",
       " 'S',\n",
       " 'S',\n",
       " 'S',\n",
       " 'S',\n",
       " '*',\n",
       " 'C',\n",
       " 'W',\n",
       " 'C',\n",
       " 'L',\n",
       " 'F',\n",
       " 'L',\n",
       " 'F']"
      ]
     },
     "execution_count": 50,
     "metadata": {},
     "output_type": "execute_result"
    }
   ],
   "source": [
    "genetic_code.values()\n",
    "aa= ['K', 'N', 'K', 'N', 'T', 'T', 'T', 'T', 'R', 'S', 'R', 'S', 'I', 'I', 'M', 'I', 'Q', 'H', 'Q', 'H', 'P', 'P', 'P', 'P', 'R', 'R', 'R', 'R', 'L', 'L', 'L', 'L', 'E', 'D', 'E', 'D', 'A', 'A', 'A', 'A', 'G', 'G', 'G', 'G', 'V', 'V', 'V', 'V', '*', 'Y', '*', 'Y', 'S', 'S', 'S', 'S', '*', 'C', 'W', 'C', 'L', 'F', 'L', 'F']\n",
    "aa"
   ]
  },
  {
   "cell_type": "markdown",
   "metadata": {},
   "source": [
    "That list-like thing contains all the amino acids, but there are duplicates, and they aren't in sorted order. An easy way to eliminate duplicates in python is to turn the list into a `set`, which is another built-in type that stores unique items. (`set`s are optimized for fast membership checking and operations like intersection and unions, but that's not relevant for this HW.)"
   ]
  },
  {
   "cell_type": "code",
   "execution_count": 31,
   "metadata": {},
   "outputs": [
    {
     "name": "stdout",
     "output_type": "stream",
     "text": [
      "['*', 'A', 'C', 'D', 'E', 'F', 'G', 'H', 'I', 'K', 'L', 'M', 'N', 'P', 'Q', 'R', 'S', 'T', 'V', 'W', 'Y']\n"
     ]
    }
   ],
   "source": [
    "# set is another builtin python type, like list or dict. It's a nice way of removing duplicates.\n",
    "# Here we build a set from all the values (amino acids) in the genetic code dictionary.\n",
    "# Then we use the \"sorted\" built-in python function to turn the set into a sorted\n",
    "# list.\n",
    "amino_acids_plus_stop = sorted(set(genetic_code.values()))\n",
    "print(amino_acids_plus_stop)"
   ]
  },
  {
   "cell_type": "markdown",
   "metadata": {},
   "source": [
    "Now the idea is to loop over this list of amino acids and count, for each one, how many codons code for it. For that you could use your solution to Question 2.  "
   ]
  },
  {
   "cell_type": "code",
   "execution_count": 54,
   "metadata": {},
   "outputs": [
    {
     "name": "stdout",
     "output_type": "stream",
     "text": [
      "*:3\n",
      "A:4\n",
      "C:2\n",
      "D:2\n",
      "E:2\n",
      "F:2\n",
      "G:4\n",
      "H:2\n",
      "I:3\n",
      "K:2\n",
      "L:6\n",
      "M:1\n",
      "N:2\n",
      "P:4\n",
      "Q:2\n",
      "R:6\n",
      "S:6\n",
      "T:4\n",
      "V:4\n",
      "W:1\n",
      "Y:2\n"
     ]
    }
   ],
   "source": [
    "#amino_acids_plus_stop is the list of all amino acids + stop\n",
    "#aa is the list of what each codon codes for \n",
    "#initializze count\n",
    "count= {aa: 0 for aa in amino_acids_plus_stop}\n",
    "\n",
    "# how many codons for each amino acid?\n",
    "for amino_acid in aa:\n",
    "    if amino_acid in count: \n",
    "            count[amino_acid] = count[amino_acid] +1\n",
    "            \n",
    "# Print\n",
    "for amino_acid, count in count.items():\n",
    "      print (f\"{amino_acid}:{count}\")\n"
   ]
  },
  {
   "cell_type": "markdown",
   "metadata": {},
   "source": [
    "# Q4 (3 points). Write a translation function that takes in a DNA sequence and returns a protein sequence.\n",
    "\n",
    "Extra nucleotides at the end should be ignored.\n",
    "\n",
    "Use it to translate the sequence `CCTCATATTTTGTGAATTTCTTGAGCTTGAGGTCGTGAGGCTACTTGAACTGAGGCTTGTCATGAGCGTT`\n",
    "\n",
    "If you are so inclined, see how short you can make your function. Can you do it in one line? See the examples at the end of this notebook if you are unsure of the syntax for defining functions and for hints on translating."
   ]
  },
  {
   "cell_type": "code",
   "execution_count": 59,
   "metadata": {},
   "outputs": [
    {
     "data": {
      "text/plain": [
       "'PHIL*IS*A*GREAT*TEACHER'"
      ]
     },
     "execution_count": 59,
     "metadata": {},
     "output_type": "execute_result"
    }
   ],
   "source": [
    "# defininition of translation function\n",
    "def translate(dna_seq):\n",
    "    # count the number of complete codons\n",
    "        # len(dna_seq) gives the total # of nucleotides, \n",
    "        # // is integer division that discards any remainder\n",
    "    num_codons = len(dna_seq)//3\n",
    "    \n",
    "    # start with an empty string\n",
    "    translation = ''\n",
    "    \n",
    "    #\"loop through codons\" loop runs through each codon and is determined by num_codons\n",
    "    # each loop, a codon is extracted from DNA sequence\n",
    "    for i in range(num_codons):\n",
    "        # i*3 gives starting index, (i*3)+3 gives ending index\n",
    "        codon = dna_seq[i*3:(i*3)+3]\n",
    "        #get() looks up codon in codon dictionary and returns AA\n",
    "        amino_acid = genetic_code.get(codon)\n",
    "       #amino acid is added to translation string  \n",
    "        translation += amino_acid\n",
    "    #store in translation string\n",
    "    return translation\n",
    "    \n",
    "translate('CCTCATATTTTGTGAATTTCTTGAGCTTGAGGTCGTGAGGCTACTTGAACTGAGGCTTGTCATGAGCGTT')"
   ]
  },
  {
   "cell_type": "markdown",
   "metadata": {},
   "source": [
    "# Q5 (3 points). Translate a SARS COV2 genome sequence; what is the longest open reading frame?\n",
    "\n",
    "Here by open reading frame I just mean a stretch of codons that doesn't contain any stop codons.\n",
    "\n",
    "You can answer either in terms of the length of the reading frame at the nucleotide or protein level, just be clear."
   ]
  },
  {
   "cell_type": "markdown",
   "metadata": {},
   "source": [
    "This little snippet will read the SARS COV2 genome DNA sequence into the string called `genome`:"
   ]
  },
  {
   "cell_type": "code",
   "execution_count": 70,
   "metadata": {},
   "outputs": [
    {
     "name": "stdout",
     "output_type": "stream",
     "text": [
      "29903\n",
      "29903\n",
      "29903\n"
     ]
    }
   ],
   "source": [
    "# define filename\n",
    "filename = 'data/sars_cov2_genome_sequence.txt'\n",
    "# lines is a list of strings, one containing each line of the file, this reads line of file\n",
    "lines = open(filename,'r').readlines()\n",
    "# the first line is a header, get rid of that one using list slicing (ie, lines[1:])\n",
    "lines2 =  lines[1:]\n",
    "# then join them together using the string join method (ie, ''.join(...))\n",
    "joined_lines = ''.join(lines2)\n",
    "# each line ends with a newline character, remove those with the string replace method\n",
    "clean_lines = joined_lines.replace('\\n','')\n",
    "# see how we can do lots of things in one line (first slicing, then joining, then replacing):\n",
    "othercleanlines= ''.join(line.replace('\\n', '') for line in lines[1:])\n",
    "# can you see why they happen in that order?\n",
    "genome = ''.join(lines[1:]).replace('\\n','')\n",
    "#showing these all had the same output\n",
    "print(len(genome))\n",
    "print(len(othercleanlines))\n",
    "print(len(clean_lines))"
   ]
  },
  {
   "cell_type": "markdown",
   "metadata": {},
   "source": [
    "Now translate genome into a protein sequence using the `translate` function from the previous question."
   ]
  },
  {
   "cell_type": "code",
   "execution_count": 73,
   "metadata": {},
   "outputs": [
    {
     "data": {
      "text/plain": [
       "'IKGLYLPR*QTNQLSISCRSVL*TNFKICVAVTRLHA*CTHAV*LITNYCR*QDTSNSSIFCRLLTVSSVLQPIISTSRFRPGVTER*DGEPCPWFQRENTRPTQFACFTGSRRARTWLWRLRGGGLIRGTSTS*RWHLWLSRS*KRRFAST*TALCVHQTFGCSNCTSWSCYG*AGSRTRRHSVRS*W*DTWCPCPSCGRNTSGLPQGSSS*ER**RSWWP*LRRRSKVI*LRRRAWH*SL*RFSRKLEH*T*QWCYP*THA*A*RRGIHSLCR*QLLWP*WLPS*VH*RPSSTCW*SFMHFVRTTGLY*H*EGCILLP*T*A*NCLVHGTF*KEL*IADTF*N*IGKEI*HLQWGMSKFCISLKFHNQDYSTKG*KEKA*WLYG*NSICLSSCVTK*MQPNVPFNSHEV*SLW*NFMADGRFC*SHLRILWH*EFD*RRCHYLWLLTPKCCC*NLLSSMSQFRSRT*A*SCRIP**IWLENHSS*GWSHYCLWRLCVLLCWLP*QVCLLGSTC*R*HRL*PYRCCWRRFRRS**QPS*NTPKRESQHQYCW*L*T**RDRHYFGIFFCFHKCFCGNCERFGL*SIQTNC*ILW*F*SYKRKS*KRCLEYW*TEINTESSLCICIRGCSCCTINFLPHS*NCSKFCACFTEGRYNNTRWNFTVFTETH*CYDVHI*FGY*QSSCNGLHYRWCCSVDFAVAN*HLWHCL*KTQTRP*LA*REV*GRCRVS*RRLGNC*IYLNLCL*NCRWTNCHLCKGN*GECSDIL*ACK*IFGFVC*LYHYWWS*T*SLEFR*NICHALKGIVQKVC*IQRRNWPTHASKSPKRNYLLRGRNTSHRSVNRGSCLENW*FTTIRTTY**SC*SSIGWYTSLY*RAYVARNQRHRKVLCPCT*YDGNKQYLHTQRRCTNKGYFW**HCDRSARLQECEYHF*T**KD**ST**EVLCLYS*TRYRSK*VRLCCGRCCHKNFATSI*ITYTTGH*FR*VEYGYILLI**VW*V*IGFTYVLFFLPSR*G*RRR*L*RRRV*AINSI*VWY*R*LPR*TFGIWCHFCCSST*RRARRRLVR***STNCWSTRRQ*GQSDNYYSNNC*GSTSIRDGTYTSCSDY*SE*F*WLFKTY*QCIH*KCRHCGRS*KGKTNSGC*CSQCLP*TWRRCCRSLK*GY*QCHAS*I**LHSY*WTT*SGW*LCFKRTQSC*TLSSCCRPKC*QR*RHSTS*ECL*KF*SARSSTCTIIISWYFWC*PYTFFKSLCRYCSHKCLLSCL**KSL*QTCFKLFGNEE*KAS*TKDR*DS*RGS*AIYN*K*TFS*TEKTR**ENQSLC*RSYNNSGRN*VPHRKLVTLY*H*WQSSSRFCHSC**H*HHFLKERCSIYSG*CCSRGCFNCCGYTY*KGWWHY*NASESFEKSANRQLYNHLPGSGFKWLHCRGGKDSA*KV*KCLLHSTIYYL**EARNSWNCFLEFARNACTCRRNTQINACLCGN*SHSFNYTA*I*GY*NTRGCG*LWC*ILLLHQ*NNCSVTYQHT*RSK*NSCYNATWLCNTWLKFGRSCSVYEISQSASYSFCFFT*CCYSV*WLSYFFF*NT*RTFY*NHLTCWFL*RLVLFWTIYTTRYRIS*ER**KCILH**SYHIPPRW*SYHL*QS*DTSFFERSEDY*GVYNSRQH*PPHASCGHVNDIWTTVWSNLFGWS*CY*NKTS*FT*R*NILCFT***HSTC*GF*VLPHN*S*FSG*VHVSIKSH*KVEIPTS*WFNFY*MGR*QLLSCHCIVNTPTNRVEV*STCSTRCLLQSKGW*SC*LLCTYLSLL**DSR*VR*C*RNNELLVSTCQFRFLQKSLERGV*NLWTTADNP*GCRSCYVHGHTFL*TI*ERCSDTLYVW*TSYKISSTTGVTFCYDVSTTCSV*T*AWYIYLC**VHW*LPVWSL*TYNF*RNFVLHRRCFTYKVLRIQRSYYGCFLQRKQLHNNHKTSYL*IGWCCLYRN*P*VGQLL*ERQFLFHRATN*SCTKPTISKRKLR*F*VCM**YQIC**FKPVNWL*ETCFKRA*SYIFP*LKW*CGGY*L*TLHTLF*ERS*IVT*TYCLAC*QCN**SHV*TKYLVYTLSLEHKTS*NIKFV*CTEVRGRAGNG*SCLRRSKTSL*RSSGKSYHTERRS*V*CENYRSCRRHYT*TSK**FKNYRRGWPHRSNGCLCRQF*SYY*ET**II*SIRFENPCYSWFSCC**CPLGYYS*LC*AFS*QSC*YNY*HSYTVFKPCLY*LYALFLYFIATIVYFY*KYKF*N*SIYADYYSKEYC*ECR*ILSRGFI*LFEVT*FF*TDKYYNLVFTIKCLPRFFNLLNRCFRCFNV*FRHAFLLYWLQRRLFELY*CHYCNLLYWFYTL*CLS*WFRFFRHLSFFRNYTNYHFIF*MGFNCFWLSCRVVFGIYSFH*VFLCTWIGCNHAIVFQLFCSTFY**FLAYVVNN*SCTNGPDFSYG*NVHLLCIILLCMEKLCACCRRL*FINLYDVLQT**SNKSRMYNYC*WC*KVLLCLC*WR*RLLQTTQLELC*L*YILCW*YIY***SCERLVTTV*KTNKSY*PVFLHR**CYSEEWFHPSLL**SWSKDL*KTFSLSFC*LRQPES**H*RFIAY*CYSF*W*IKM*RIICKISVCLLQSAYVSTYTVTRSGISV*CW**CGSCS*NV*CLR*YVFINF*RTNGKTQNTSCNCRS*TCKECVLRQCLIYFYFSSSARVC*FRCRN*RCC*MS*IVTSI*HRSYWR*L**LYAHL*QS*KHDTP*PWCLY*L*CASY*CAGSKKSQHCFDMER*RFHVIV*TTTKTNT*CC*KE*LTF*VDMCNY*TSC*CCNNKDST*GW*NC**LVEAVN*SYTCVPFCCCYFLFNNTCSCHV*TY*LFK*NHRIQGY*WWCHS*HSIYRYLFC*QTC*F*HMV*PAWW*LY**QSLPIDCCSHNKRSGFCRAWFAWHDITHN*W*LFAFLT*SF*CSW*HLLHTIKTYRVH*LCNISLCFGC*MYNF*RCFW*ASTILL*YQCTRRFCCL*KFTP*HTLCAHGWLYYSIS*HLP*RFC*SGNNF*F*VL*ARHL*KIRSWCLCIY*W*MGT*Q*LLQIFTRSFLWCRCCKFTY*YVYTTNSTYWCFGHISIYSSWWYCSYRSNMPCLLFYEV*KSFW*IQSCSCL*YFTIPYVIHCTLFNTSLLILTWCLFCYLLVLDILSY**CFFFSTYSVDGYVHTFSTFLDNNCLYHLYFHKAFLLVL**LPKETCSL*WCFL*YF*RSCAVHLFVK*RNVSKVA**CAITSYAI**ILSSL**VQVF*WSNGYN*LQRSCLLSSRKGSQ*LQ*LRF*CSLPTTTNLYHLSCFAEWF*KNGIPIW*S*GLYGTSNLWYNYT*RSLA**RSLLSKTCDLHL*RHA*P*L*RFTHS*V*S*FLGTGW*CSTQGYWTFYAKLCT*A*G*YSQS*DT*V*VCSHSTRTDFFSVSLLQWFTIWCLPMCYEAQFHY*GFIP*WFMW*CWF*HRL*LCLFLLHAPYGITNWSSCWHRLRR*LLWTFC*QANSTSSWYGHNYYS*CFSLVVRCCYKWRQVVSQSIYHNS**L*PCGYEVQL*TSNTRPC*HTRTSFCSNWNCRFRYVCFIKRITAKWYEWTYHIG*CFIRR*IYTF*CC*TMLRCYFPKCSEKNNQGYTPLVVTHNFDFTFSFSPEYSMVFVLFFV*KCLFTFCYGYYCYVCFCNDVCQT*ACISLFVFVTFSCHCSLF*YGLYAC*LGDAYYDMVGYG*Y*FVWF*AKRLCYVCISCSVTNPYDSKNCV**WC*ESVDTYECLDTRL*SLLW*CFRSSHFHVGSYNLCYF*LLRCSYNCHVFGQRYCFYVC*VLPYFLHNW*YTSVYNASLLFLRLFLYLLLWPLLFTQPLL*TDSWCL*LLSFYTGV*IYEFTGTTPTQE*HRCLQTQH*IVGCWWQTLYQSSHCTV*NVRCKVHISSLTLSFATTQSRIII*IVGSMCPVTQ*HSLS*RYY*SL*KNGFTTFCFAFHAGCCRHKQAL*RNAGQQGNLTSYSLRV*FPSIICSFCYCSRSL*AGCC*W*F*SCS*KVEEVFECG*I*I*P*CSHAT*VGKDG*SSYDPNV*TG*I*GQEGKSY*CYADNAFHYA*KVG**CTQQHYQQCKRWLCSLEHNTSYNSSQTNGCHTRL*HI*KYV*WYNIYLCISIVGNPTGCRCR**NCST**N*YGQFT*FSMASYCNSFKGQFCCQITE**A*SCCTTTDVLCCRYYTNCLH**QCVSLLQHNKGR*VCTCTVIRFTGFEMG*IP*E*WNWYYLYRTGTTL*VCYRHT*RS*SEVFILY*RIKQPK*RYGTW*FSCHSTSTSW*CNRSACQFNCIIFLCFCCRCC*SLQRLSS*WGTTNH*LC*DVVYTHWYWSGNNSYTGSQYGSRILWWCIVLSVLPLPHRSSKS*RIL*LKR*VCTNTYNLC**PCGFYT*KHSLYRLRYVERLWL*L*STPRTHASVS*CTIVFKRVCGVSAARLTPCGTGTSTDVVYRAFDIYNDKVAGFAKFLKTNCCRFQEKDEDDNLIDSYFVVKRHTFSNYQHEETIYNLLKDCPAVAKHDFFKFRIDGDMVPHISRQRLTKYTMADLVYALRHFDEGNCDTLKEILVTYNCCDDDYFNKKDWYDFVENPDILRVYANLGERVRQALLKTVQFCDAMRNAGIVGVLTLDNQDLNGNWYDFGDFIQTTPGSGVPVVDSYYSLLMPILTLTRALTAESHVDTDLTKPYIKWDLLKYDFTEERLKLFDRYFKYWDQTYHPNCVNCLDDRCILHCANFNVLFSTVFPPTSFGPLVRKIFVDGVPFVVSTGYHFRELGVVHNQDVNLHSSRLSFKELLVYAADPAMHAASGNLLLDKRTTCFSVAALTNNVAFQTVKPGNFNKDFYDFAVSKGFFKEGSSVELKHFFFAQDGNAAISDYDYYRYNLPTMCDIRQLLFVVEVVDKYFDCYDGGCINANQVIVNNLDKSAGFPFNKWGKARLYYDSMSYEDQDALFAYTKRNVIPTITQMNLKYAISAKNRARTVAGVSICSTMTNRQFHQKLLKSIAATRGATVVIGTSKFYGGWHNMLKTVYSDVENPHLMGWDYPKCDRAMPNMLRIMASLVLARKHTTCCSLSHRFYRLANECAQVLSEMVMCGGSLYVKPGGTSSGDATTAYANSVFNICQAVTANVNALLSTDGNKIADKYVRNLQHRLYECLYRNRDVDTDFVNEFYAYLRKHFSMMILSDDAVVCFNSTYASQGLVASIKNFKSVLYYQNNVFMSEAKCWTETDLTKGPHEFCSQHTMLVKQGDDYVYLPYPDPSRILGAGCFVDDIVKTDGTLMIERFVSLAIDAYPLTKHPNQEYADVFHLYLQYIRKLHDELTGHMLDMYSVMLTNDNTSRYWEPEFYEAMYTPHTVLQAVGACVLCNSQTSLRCGACIRRPFLCCKCCYDHVISTSHKLVLSVNPYVCNAPGCDVTDVTQLYLGGMSYYCKSHKPPISFPLCANGQVFGLYKNTCVGSDNVTDFNAIATCDWTNAGDYILANTCTERLKLFAAETLKATEETFKLSYGIATVREVLSDRELHLSWEVGKPRPPLNRNYVFTGYRVTKNSKVQIGEYTFEKGDYGDAVVYRGTTTYKLNVGDYFVLTSHTVMPLSAPTLVPQEHYVRITGLYPTLNISDEFSSNVANYQKVGMQKYSTLQGPPGTGKSHFAIGLALYYPSARIVYTACSHAAVDALCEKALKYLPIDKCSRIIPARARVECFDKFKVNSTLEQYVFCTVNALPETTADIVVFDEISMATNYDLSVVNARLRAKHYVYIGDPAQLPAPRTLLTKGTLEPEYFNSVCRLMKTIGPDMFLGTCRRCPAEIVDTVSALVYDNKLKAHKDKSAQCFKMFYKGVITHDVSSAINRPQIGVVREFLTRNPAWRKAVFISPYNSQNAVASKILGLPTQTVDSSQGSEYDYVIFTQTTETAHSCNVNRFNVAITRAKVGILCIMSDRDLYDKLQFTSLEIPRRNVATLQAENVTGLFKDCSKVITGLHPTQAPTHLSVDTKFKTEGLCVDIPGIPKDMTYRRLISMMGFKMNYQVNGYPNMFITREEAIRHVRAWIGFDVEGCHATREAVGTNLPLQLGFSTGVNLVAVPTGYVDTPNNTDFSRVSAKPPPGDQFKHLIPLMYKGLPWNVVRIKIVQMLSDTLKNLSDRVVFVLWAHGFELTSMKYFVKIGPERTCCLCDRRATCFSTASDTYACWHHSIGFDYVYNPFMIDVQQWGFTGNLQSNHDLYCQVHGNAHVASCDAIMTRCLAVHECFVKRVDWTIEYPIIGDELKINAACRKVQHMVVKAALLADKFPVLHDIGNPKAIKCVPQADVEWKFYDAQPCSDKAYKIEELFYSYATHSDKFTDGVCLFWNCNVDRYPANSIVCRFDTRVLSNLNLPGCDGGSLYVNKHAFHTPAFDKSAFVNLKQLPFFYYSDSPCESHGKQVVSDIDYVPLKSATCITRCNLGGAVCRHHANEYRLYLDAYNMMISAGFSLWVYKQFDTYNLWNTFTRLQSLENVAFNVVNKGHFDGQQGEVPVSIINNTVYTKVDGVDVELFENKTTLPVNVAFELWAKRNIKPVPEVKILNNLGVDIAANTVIWDYKRDAPAHISTIGVCSMTDIAKKPTETICAPLTVFFDGRVDGQVDLFRNARNGVLITEGSVKGLQPSVGPKQASLNGVTLIGEAVKTQFNYYKKVDGVVQQLPETYFTQSRNLQEFKPRSQMEIDFLELAMDEFIERYKLEGYAFEHIVYGDFSHSQLGGLHLLIGLAKRFKESPFELEDFIPMDSTVKNYFITDAQTGSSKCVCSVIDLLLDDFVEIIKSQDLSVVSKVVKVTIDYTEISFMLWCKDGHVETFYPKLQSSQAWQPGVAMPNLYKMQRMLLEKCDLQNYGDSATLPKGIMMNVAKYTQLCQYLNTLTLAVPYNMRVIHFGAGSDKGVAPGTAVLRQWLPTGTLLVDSDLNDFVSDADSTLIGDCATVHTANKWDLIISDMYDPKTKNVTKENDSKEGFFTYICGFIQQKLALGGSVAIKITEHSWNADLYKLMGHFAWWTAFVTNVNASSSEAFLIGCNYLGKPREQIDGYVMHANYIFWRNTNPIQLSSYSLFDMSKFPLKLRGTAVMSLKEGQINDMILSLLSKGRLIIRENNRVVISSDVLVNN*TNNVCFSCFIATSL*SVC*SYNQNSITPCIH*FFHTWCLLP*QSFQILSFTFNSGLVLTFLFQCYLVPCYTCLWDQWY*EV**PCPTI**WCLFCFH*EV*HNKRLDFWYYFRFEDPVPTYC**RY*CCY*SL*ISIL**SIFGCLLPQKQQKLDGK*VQSLF*CE*LHF*ICLSAFSYGP*RKTG*FQKS*GICV*EY*WLF*NIF*AHAY*FSA*SPSGFFGFRTIGRFANRY*HH*VSNFTCFT*KLFDSW*FFFRLDSWCCSLLCGLSST*DFSIKI**KWNHYRCCRLCT*PSLRNKVYVEILHCRKRNLSNF*L*SPTNRIYC*IS*YYKLVPFW*SF*RHQICICLCLEQEENQQLCC*LFCPI*FRIIFHF*VLWSVSY*IK*SLLY*CLCRFICN*R**SQTNRSRANWKDC*L*L*ITR*FYRLRYSLEF*QS*F*GWW*L*LPV*IV*EV*SQTF*ERYFN*NLSGR*HTL*WC*RF*LLLSFTIIWFPTH*WCWLPTIQSSSTFF*TSTCTSNCLWT*KVY*FG*KQMCQFQLQWFNRHRCSY*V*QKVSAFPTIWQRHC*HY*CCP*STDT*DS*HYTMFFWWCQCYNTRNKYF*PGCCSLSGC*LHRSPCCYSCRSTYSYLACLFYRF*CFSNTCRLFNRG*TCQQLI*V*HTHWCRYMR*LSDSD*FSSAGT*CS*SIHHCLHYVTWCRKFSCLL**LYCHTHKFYY*CYHRNSTSVYDQDISRLYNVHLW*FN*MQQSFVAIWQFLYTIKPCFNWNSC*TRQKHPRSFCTSQTNLQNTTN*RFWWF*FFTNITRSIKTKQEVIY*RSTFQQSDTCRCWLHQTIW*LPW*YCC*RPHLCTKV*RPYCFATFAHR*NDCSIHFCTVSGYNHFWLDLWCRCCITNTICYANGL*V*WYWSYTECSL*EPKIDCQPI**CYWQNSRLTFFHSKCTWKTSRCGQPKCTSFKHAC*TT*LQFWCNFKCFK*YPFTS*QS*G*SAN**VDHRQTSKFADICDSTIN*SCRNQSFC*SCCY*NVRVCTWTIKKS*FLWKGLSSYVLPSVSTSWCSLLACDLCPCTRKELHNCSCHLS*WKSTLSS*RCLCFKWHTLVCNTKEFL*TTNHYYRQHICVW*L*CCNRNCQQHSL*SFAT*IRLIQGGVR*IF*ESYITRC*FR*HLWH*CFSCKHSKRN*PPQ*GCQEFK*ISHRSPRTWKV*AVYKMAMVHLARFYSWLDCHSNGDNYALLYDQLL*LSQGLLFLWILLQI**RRL*ASAQRSQITLHINELMDLFMRIFTIGTVTLKQGEIKDATPSDFVRATATIPIQASLPFGWLIVGVALLAVFQSASKIITLKKRWQLALSKGVHFVCNLLLLFVTVYSHLLLVAAGLEAPFLYLYALVYFLQSINFVRIIMRLWLCWKCRSKNPLLYDANYFLCWHTNCYDYCIPYNSVTSSIVITSGDGTTSPISEHDYQIGGYTEKWESGVKDCVVLHSYFTSDYYQLYSTQLSTDTGVEHVTFFIYNKIVDEPEEHVQIHTIDGSSGVVNPVMEPIYDEPTTTTSVPL*AQADEYELMYSFVSEETGTLIVNSVLLFLAFVVFLLVTLAILTALRLCAYCCNIVNVSLVKPSFYVYSRVKNLNSSRVPDLLV*TN*ILY*FFCLEL*F*PWQIPTVLLPLKSLKSSLNNGT***VSYSLHGFVFYNLPMPTGIGFCI*LS*FSSGCYGQ*L*LVLCLLLFTE*IGSPVELLSQWLVL*A*CGSATSLLLSDCLRVRVPCGHSIQKLTFFSTCHSMALF*PDRF*KVNS*SEL*SFVDIFVLLDTI*DAVTSRTCLKKSLLLHHERFLITNWELRSV*QVTQVLLHTVATGLATIN*TQTIPVAVTILLCLYSK*QQMFHLVDFQVTIAEILLIIMRTFKVSIWNLDYIINLIIKNLSKSLTENKYSQLDEEQPMEID*TNMKIILFLALITLATCELYHYQECVRGTTVLLKEPCSSGTYEGNSPFHPLADNKFALTCFSTQFAFACPDGVKHVYQLRARSVSPKLFIRQEEVQELYSPIFLIVAAIVFITLCFTLKRKTE*LNFH*LTSICAF*PFCYSLF*LCLLSFGSHLNCKIIMKLVTPKRT*NFLFS*ESSQL*LHFTKNVVYSHVLNINHM*LMTRVLFTSILNGILE*ELENQHL*LNCAWMRLVLNHPFSTSISVIIQFPVYLLQLIARNLNWVVL*CVVRSMKTF*SIMTFVLF*ISSKRTN*NV**WTPKSAKCTPHYVWWTLRFNWQ*PEWRTQWGAIKTTSAPRFTQ*YCVLVHRSHSTWQGRP*IPSRTRRSN*HQ*QSR*PNWLLPKSYQTNSWW*R*NERSQSKMVFLLPRNWARSWTSLWC*QRRHHMGCN*GSLEYTKRSHWHPQSC*QCCNRATTSSRNNIAKRLLRRREQRRQSSLFSFLIT*SQQFKKFNSRQQ*GNFSC*NGWQWR*CCSCFAAA*QIEPA*EQNVW*RPTTTRPNCH*EICC*GF*EASAKTYCH*SIQCNTSFRQTWSRTNPRKFWGPGTNQTRN*LQTLAANCTICPQRFSVLRNVAHWHGSHTFGNVVDLHRCHQIG*QRSKFQRSSHFAE*AY*RIQNIPTNRA*KGQKEEG**NSSLTAETEETANCDSSSCCRFG*FLQTIATIHEQC*LNSGLNSCRPHKADGLYKRFRFSVYDI*STLVQNEFS*LHSTSRCS*L*SHIAIFNQCVTLGRT*KSHHIFTEATRSTIECTVNNARESCLYGRALMCKINFSSAIPM*F**LLRRMTKKKKKKKKKK'"
      ]
     },
     "execution_count": 73,
     "metadata": {},
     "output_type": "execute_result"
    }
   ],
   "source": [
    "prot_seq = translate(genome) \n",
    "prot_seq"
   ]
  },
  {
   "cell_type": "markdown",
   "metadata": {},
   "source": [
    "Now you want to figure out the longest stretch of letters (amino acids) in `prot_seq` that doesn't contain any `*` characters. You can do this however you like, but as a hint, consider using the string.split() function, where you split on '*'s.  "
   ]
  },
  {
   "cell_type": "code",
   "execution_count": 88,
   "metadata": {},
   "outputs": [
    {
     "name": "stdout",
     "output_type": "stream",
     "text": [
      "CTIVFKRVCGVSAARLTPCGTGTSTDVVYRAFDIYNDKVAGFAKFLKTNCCRFQEKDEDDNLIDSYFVVKRHTFSNYQHEETIYNLLKDCPAVAKHDFFKFRIDGDMVPHISRQRLTKYTMADLVYALRHFDEGNCDTLKEILVTYNCCDDDYFNKKDWYDFVENPDILRVYANLGERVRQALLKTVQFCDAMRNAGIVGVLTLDNQDLNGNWYDFGDFIQTTPGSGVPVVDSYYSLLMPILTLTRALTAESHVDTDLTKPYIKWDLLKYDFTEERLKLFDRYFKYWDQTYHPNCVNCLDDRCILHCANFNVLFSTVFPPTSFGPLVRKIFVDGVPFVVSTGYHFRELGVVHNQDVNLHSSRLSFKELLVYAADPAMHAASGNLLLDKRTTCFSVAALTNNVAFQTVKPGNFNKDFYDFAVSKGFFKEGSSVELKHFFFAQDGNAAISDYDYYRYNLPTMCDIRQLLFVVEVVDKYFDCYDGGCINANQVIVNNLDKSAGFPFNKWGKARLYYDSMSYEDQDALFAYTKRNVIPTITQMNLKYAISAKNRARTVAGVSICSTMTNRQFHQKLLKSIAATRGATVVIGTSKFYGGWHNMLKTVYSDVENPHLMGWDYPKCDRAMPNMLRIMASLVLARKHTTCCSLSHRFYRLANECAQVLSEMVMCGGSLYVKPGGTSSGDATTAYANSVFNICQAVTANVNALLSTDGNKIADKYVRNLQHRLYECLYRNRDVDTDFVNEFYAYLRKHFSMMILSDDAVVCFNSTYASQGLVASIKNFKSVLYYQNNVFMSEAKCWTETDLTKGPHEFCSQHTMLVKQGDDYVYLPYPDPSRILGAGCFVDDIVKTDGTLMIERFVSLAIDAYPLTKHPNQEYADVFHLYLQYIRKLHDELTGHMLDMYSVMLTNDNTSRYWEPEFYEAMYTPHTVLQAVGACVLCNSQTSLRCGACIRRPFLCCKCCYDHVISTSHKLVLSVNPYVCNAPGCDVTDVTQLYLGGMSYYCKSHKPPISFPLCANGQVFGLYKNTCVGSDNVTDFNAIATCDWTNAGDYILANTCTERLKLFAAETLKATEETFKLSYGIATVREVLSDRELHLSWEVGKPRPPLNRNYVFTGYRVTKNSKVQIGEYTFEKGDYGDAVVYRGTTTYKLNVGDYFVLTSHTVMPLSAPTLVPQEHYVRITGLYPTLNISDEFSSNVANYQKVGMQKYSTLQGPPGTGKSHFAIGLALYYPSARIVYTACSHAAVDALCEKALKYLPIDKCSRIIPARARVECFDKFKVNSTLEQYVFCTVNALPETTADIVVFDEISMATNYDLSVVNARLRAKHYVYIGDPAQLPAPRTLLTKGTLEPEYFNSVCRLMKTIGPDMFLGTCRRCPAEIVDTVSALVYDNKLKAHKDKSAQCFKMFYKGVITHDVSSAINRPQIGVVREFLTRNPAWRKAVFISPYNSQNAVASKILGLPTQTVDSSQGSEYDYVIFTQTTETAHSCNVNRFNVAITRAKVGILCIMSDRDLYDKLQFTSLEIPRRNVATLQAENVTGLFKDCSKVITGLHPTQAPTHLSVDTKFKTEGLCVDIPGIPKDMTYRRLISMMGFKMNYQVNGYPNMFITREEAIRHVRAWIGFDVEGCHATREAVGTNLPLQLGFSTGVNLVAVPTGYVDTPNNTDFSRVSAKPPPGDQFKHLIPLMYKGLPWNVVRIKIVQMLSDTLKNLSDRVVFVLWAHGFELTSMKYFVKIGPERTCCLCDRRATCFSTASDTYACWHHSIGFDYVYNPFMIDVQQWGFTGNLQSNHDLYCQVHGNAHVASCDAIMTRCLAVHECFVKRVDWTIEYPIIGDELKINAACRKVQHMVVKAALLADKFPVLHDIGNPKAIKCVPQADVEWKFYDAQPCSDKAYKIEELFYSYATHSDKFTDGVCLFWNCNVDRYPANSIVCRFDTRVLSNLNLPGCDGGSLYVNKHAFHTPAFDKSAFVNLKQLPFFYYSDSPCESHGKQVVSDIDYVPLKSATCITRCNLGGAVCRHHANEYRLYLDAYNMMISAGFSLWVYKQFDTYNLWNTFTRLQSLENVAFNVVNKGHFDGQQGEVPVSIINNTVYTKVDGVDVELFENKTTLPVNVAFELWAKRNIKPVPEVKILNNLGVDIAANTVIWDYKRDAPAHISTIGVCSMTDIAKKPTETICAPLTVFFDGRVDGQVDLFRNARNGVLITEGSVKGLQPSVGPKQASLNGVTLIGEAVKTQFNYYKKVDGVVQQLPETYFTQSRNLQEFKPRSQMEIDFLELAMDEFIERYKLEGYAFEHIVYGDFSHSQLGGLHLLIGLAKRFKESPFELEDFIPMDSTVKNYFITDAQTGSSKCVCSVIDLLLDDFVEIIKSQDLSVVSKVVKVTIDYTEISFMLWCKDGHVETFYPKLQSSQAWQPGVAMPNLYKMQRMLLEKCDLQNYGDSATLPKGIMMNVAKYTQLCQYLNTLTLAVPYNMRVIHFGAGSDKGVAPGTAVLRQWLPTGTLLVDSDLNDFVSDADSTLIGDCATVHTANKWDLIISDMYDPKTKNVTKENDSKEGFFTYICGFIQQKLALGGSVAIKITEHSWNADLYKLMGHFAWWTAFVTNVNASSSEAFLIGCNYLGKPREQIDGYVMHANYIFWRNTNPIQLSSYSLFDMSKFPLKLRGTAVMSLKEGQINDMILSLLSKGRLIIRENNRVVISSDVLVNN\n"
     ]
    }
   ],
   "source": [
    "#split up terms between *\n",
    "l = prot_seq.split('*')\n",
    "\n",
    "# count number of AA in each term on the list and sort from most to least characters\n",
    "l_sorted = sorted(l, key=len, reverse=True)\n",
    "\n",
    "#read the first term from the list\n",
    "print (l_sorted[0])\n"
   ]
  },
  {
   "cell_type": "markdown",
   "metadata": {},
   "source": [
    "# Extra credit (2 points, maybe): What is the expected length of the longest open reading frame?\n",
    "\n",
    "Given that we have ~30,000 nucleotides of a given sequence composition, how long would we expect the longest reading frame to be if they were ordered randomly?\n",
    "\n",
    "Do this by randomly shuffling the genome sequence some number of times (say 100) and finding the longest orf in all its translations. Add those lengths up and divide by the number of times you shuffled.\n"
   ]
  },
  {
   "cell_type": "code",
   "execution_count": 89,
   "metadata": {},
   "outputs": [
    {
     "name": "stdout",
     "output_type": "stream",
     "text": [
      "shuffled numlist: [3, 1, 4, 2, 5, 6]\n",
      "shuffled seq: ACTGATTCGCAG\n"
     ]
    }
   ],
   "source": [
    "# random is a very useful python library aka module\n",
    "import random\n",
    "\n",
    "numlist = [1,2,3,4,5,6]\n",
    "\n",
    "# we can call functions from within modules by using this syntax: module.function\n",
    "random.shuffle(numlist)\n",
    "\n",
    "print('shuffled numlist:', numlist)\n",
    "\n",
    "# random.shuffle doesn't work on immutable objects like strings, but we can turn a string into a list...\n",
    "seq = 'ACGTACGTACGT'\n",
    "\n",
    "seqlist = list(seq)\n",
    "\n",
    "random.shuffle(seqlist)\n",
    "\n",
    "seq = ''.join(seqlist)\n",
    "\n",
    "print('shuffled seq:', seq)"
   ]
  },
  {
   "cell_type": "code",
   "execution_count": 107,
   "metadata": {},
   "outputs": [
    {
     "name": "stdout",
     "output_type": "stream",
     "text": [
      "99.96\n"
     ]
    }
   ],
   "source": [
    "import random\n",
    "\n",
    "num_shuffles = 100\n",
    "\n",
    "# also create a variable to hold the total length of all the longest orfs...\n",
    "total_length = 0\n",
    "\n",
    "#Find the total length of the longest ORF in 100 shuffles of the sequence \n",
    "#Shuffle 100 times\n",
    "for repeat in range(num_shuffles):\n",
    "    #Shuffle sequence \n",
    "    shuffled_sequence = ''.join(random.sample(clean_lines, len(clean_lines)))\n",
    "    #Translate sequence \n",
    "    translated_sequence = translate(shuffled_sequence)\n",
    "    #Slice sequence\n",
    "    sliced_sequence = translated_sequence.split('*')\n",
    "    #Find the length of longest ORF and keep track\n",
    "    longest_orf_length = max(map(len, sliced_sequence))\n",
    "    #Add the lengths of all longest ORF together\n",
    "    total_length += longest_orf_length\n",
    "\n",
    "#calculate the mean \n",
    "mean_longest_orf = total_length/num_shuffles\n",
    "print(mean_longest_orf)\n"
   ]
  },
  {
   "cell_type": "markdown",
   "metadata": {},
   "source": [
    "# Potentially helpful examples"
   ]
  },
  {
   "cell_type": "markdown",
   "metadata": {},
   "source": [
    "## More details on defining functions\n",
    "Defining a function that takes in an argument (in this case, a number) and returns a new value that depends on the argument. "
   ]
  },
  {
   "cell_type": "code",
   "execution_count": null,
   "metadata": {},
   "outputs": [],
   "source": [
    "# here we define a function that doubles a number\n",
    "#\n",
    "# Here the function is called \"double\" and the argument that gets passed in is\n",
    "# called \"num\". We could pick a different name for \"num\", as long as we use\n",
    "# that other name inside the body of the function (the body of the function is\n",
    "# the indendted part that comes after the \"def ...:\" line)\n",
    "def double(num):\n",
    "    return 2*num\n",
    "\n",
    "print('2 doubled is', double(2))\n",
    "print('3 doubled is', double(3))\n",
    "\n",
    "a = 6\n",
    "print(a, 'doubled is', double(a))\n"
   ]
  },
  {
   "cell_type": "code",
   "execution_count": null,
   "metadata": {},
   "outputs": [],
   "source": [
    "# this gives exactly the same function: it doesn't matter what we call the\n",
    "# argument (num or i) as long as we are consistent.\n",
    "def double(i):\n",
    "    return 2*i"
   ]
  },
  {
   "cell_type": "markdown",
   "metadata": {},
   "source": [
    "## Hints for translating DNA to protein"
   ]
  },
  {
   "cell_type": "code",
   "execution_count": null,
   "metadata": {},
   "outputs": [],
   "source": [
    "# let's translate a short dna sequence by hand\n",
    "dna_seq = 'CCTCATATT'\n",
    "\n",
    "translation = '' # start with an empty string\n",
    "\n",
    "first_codon = dna_seq[0:3]\n",
    "first_amino_acid = genetic_code[first_codon]\n",
    "translation = translation + first_amino_acid # add the first aa to the end\n",
    "\n",
    "second_codon = dna_seq[3:6]\n",
    "second_amino_acid = genetic_code[second_codon]\n",
    "translation = translation + second_amino_acid # add the second aa to the end\n",
    "\n",
    "third_codon = dna_seq[6:9]\n",
    "third_amino_acid = genetic_code[third_codon]\n",
    "translation = translation + third_amino_acid # add the third aa to the end\n",
    "\n",
    "print(dna_seq, 'codes for', translation)"
   ]
  },
  {
   "cell_type": "code",
   "execution_count": null,
   "metadata": {},
   "outputs": [],
   "source": []
  },
  {
   "cell_type": "code",
   "execution_count": null,
   "metadata": {},
   "outputs": [],
   "source": []
  }
 ],
 "metadata": {
  "kernelspec": {
   "display_name": "base",
   "language": "python",
   "name": "python3"
  },
  "language_info": {
   "codemirror_mode": {
    "name": "ipython",
    "version": 3
   },
   "file_extension": ".py",
   "mimetype": "text/x-python",
   "name": "python",
   "nbconvert_exporter": "python",
   "pygments_lexer": "ipython3",
   "version": "3.9.12"
  }
 },
 "nbformat": 4,
 "nbformat_minor": 2
}
